{
 "cells": [
  {
   "cell_type": "markdown",
   "metadata": {},
   "source": [
    "### Check the forces that are being applied when we first raise the mirror. Are these the optimized forces \n",
    "We use the optimized forces obtained in the Mirror Lab as optimized forces.\n",
    "\n",
    "More details on the context of the data\n",
    "https://jira.lsstcorp.org/secure/Tests.jspa#/testPlayer/testExecution/LVV-E1020"
   ]
  },
  {
   "cell_type": "code",
   "execution_count": 1,
   "metadata": {},
   "outputs": [],
   "source": [
    "from datetime import datetime, timedelta\n",
    "import os\n",
    "import yaml\n",
    "\n",
    "from astropy.time import Time, TimeDelta\n",
    "import numpy as np\n",
    "import pandas as pd\n",
    "from M1M3tools import *\n",
    "\n",
    "from lsst_efd_client import EfdClient\n",
    "import matplotlib.pyplot as plt\n",
    "%matplotlib inline\n",
    "\n",
    "from pandas.plotting import register_matplotlib_converters\n",
    "register_matplotlib_converters()"
   ]
  },
  {
   "cell_type": "code",
   "execution_count": 2,
   "metadata": {},
   "outputs": [],
   "source": [
    "client = EfdClient('summit_efd')\n",
    "csc_index = 1\n",
    "info = {}\n",
    "info['start_time'] = Time(\"2020-02-28T18:33:00\", scale='utc') \n",
    "info['end_time'] = info['start_time'] + timedelta(minutes=2)"
   ]
  },
  {
   "cell_type": "code",
   "execution_count": 3,
   "metadata": {},
   "outputs": [
    {
     "data": {
      "text/html": [
       "<div>\n",
       "<style scoped>\n",
       "    .dataframe tbody tr th:only-of-type {\n",
       "        vertical-align: middle;\n",
       "    }\n",
       "\n",
       "    .dataframe tbody tr th {\n",
       "        vertical-align: top;\n",
       "    }\n",
       "\n",
       "    .dataframe thead th {\n",
       "        text-align: right;\n",
       "    }\n",
       "</style>\n",
       "<table border=\"1\" class=\"dataframe\">\n",
       "  <thead>\n",
       "    <tr style=\"text-align: right;\">\n",
       "      <th></th>\n",
       "      <th>forceMagnitude</th>\n",
       "      <th>fx</th>\n",
       "      <th>fy</th>\n",
       "      <th>fz</th>\n",
       "      <th>mx</th>\n",
       "      <th>my</th>\n",
       "      <th>mz</th>\n",
       "      <th>priority</th>\n",
       "      <th>private_host</th>\n",
       "      <th>private_kafkaStamp</th>\n",
       "      <th>...</th>\n",
       "      <th>zForces90</th>\n",
       "      <th>zForces91</th>\n",
       "      <th>zForces92</th>\n",
       "      <th>zForces93</th>\n",
       "      <th>zForces94</th>\n",
       "      <th>zForces95</th>\n",
       "      <th>zForces96</th>\n",
       "      <th>zForces97</th>\n",
       "      <th>zForces98</th>\n",
       "      <th>zForces99</th>\n",
       "    </tr>\n",
       "  </thead>\n",
       "  <tbody>\n",
       "    <tr>\n",
       "      <th>2020-02-28 18:33:37.005091476+00:00</th>\n",
       "      <td>172622.453125</td>\n",
       "      <td>-9.536743e-07</td>\n",
       "      <td>-504.298401</td>\n",
       "      <td>172621.71875</td>\n",
       "      <td>-662.138672</td>\n",
       "      <td>-634.672363</td>\n",
       "      <td>-0.564822</td>\n",
       "      <td>0</td>\n",
       "      <td>1</td>\n",
       "      <td>1.582915e+09</td>\n",
       "      <td>...</td>\n",
       "      <td>1604.900024</td>\n",
       "      <td>787.160034</td>\n",
       "      <td>1058.600098</td>\n",
       "      <td>1112.199951</td>\n",
       "      <td>1146.299927</td>\n",
       "      <td>1175.699951</td>\n",
       "      <td>585.330017</td>\n",
       "      <td>1081.699951</td>\n",
       "      <td>1092</td>\n",
       "      <td>1130.099976</td>\n",
       "    </tr>\n",
       "    <tr>\n",
       "      <th>2020-02-28 18:33:37.028841977+00:00</th>\n",
       "      <td>172622.453125</td>\n",
       "      <td>-9.536743e-07</td>\n",
       "      <td>-504.298401</td>\n",
       "      <td>172621.71875</td>\n",
       "      <td>-662.138672</td>\n",
       "      <td>-634.672363</td>\n",
       "      <td>-0.564822</td>\n",
       "      <td>0</td>\n",
       "      <td>1</td>\n",
       "      <td>1.582915e+09</td>\n",
       "      <td>...</td>\n",
       "      <td>1604.900024</td>\n",
       "      <td>787.160034</td>\n",
       "      <td>1058.600098</td>\n",
       "      <td>1112.199951</td>\n",
       "      <td>1146.299927</td>\n",
       "      <td>1175.699951</td>\n",
       "      <td>585.330017</td>\n",
       "      <td>1081.699951</td>\n",
       "      <td>1092</td>\n",
       "      <td>1130.099976</td>\n",
       "    </tr>\n",
       "    <tr>\n",
       "      <th>2020-02-28 18:33:37.068140250+00:00</th>\n",
       "      <td>172622.453125</td>\n",
       "      <td>-9.536743e-07</td>\n",
       "      <td>-504.298401</td>\n",
       "      <td>172621.71875</td>\n",
       "      <td>-662.138672</td>\n",
       "      <td>-634.672363</td>\n",
       "      <td>-0.564822</td>\n",
       "      <td>0</td>\n",
       "      <td>1</td>\n",
       "      <td>1.582915e+09</td>\n",
       "      <td>...</td>\n",
       "      <td>1604.900024</td>\n",
       "      <td>787.160034</td>\n",
       "      <td>1058.600098</td>\n",
       "      <td>1112.199951</td>\n",
       "      <td>1146.299927</td>\n",
       "      <td>1175.699951</td>\n",
       "      <td>585.330017</td>\n",
       "      <td>1081.699951</td>\n",
       "      <td>1092</td>\n",
       "      <td>1130.099976</td>\n",
       "    </tr>\n",
       "    <tr>\n",
       "      <th>2020-02-28 18:33:37.140213202+00:00</th>\n",
       "      <td>172622.453125</td>\n",
       "      <td>-9.536743e-07</td>\n",
       "      <td>-504.298401</td>\n",
       "      <td>172621.71875</td>\n",
       "      <td>-662.138672</td>\n",
       "      <td>-634.672363</td>\n",
       "      <td>-0.564822</td>\n",
       "      <td>0</td>\n",
       "      <td>1</td>\n",
       "      <td>1.582915e+09</td>\n",
       "      <td>...</td>\n",
       "      <td>1604.900024</td>\n",
       "      <td>787.160034</td>\n",
       "      <td>1058.600098</td>\n",
       "      <td>1112.199951</td>\n",
       "      <td>1146.299927</td>\n",
       "      <td>1175.699951</td>\n",
       "      <td>585.330017</td>\n",
       "      <td>1081.699951</td>\n",
       "      <td>1092</td>\n",
       "      <td>1130.099976</td>\n",
       "    </tr>\n",
       "    <tr>\n",
       "      <th>2020-02-28 18:33:37.172787669+00:00</th>\n",
       "      <td>172622.453125</td>\n",
       "      <td>-9.536743e-07</td>\n",
       "      <td>-504.298401</td>\n",
       "      <td>172621.71875</td>\n",
       "      <td>-662.138672</td>\n",
       "      <td>-634.672363</td>\n",
       "      <td>-0.564822</td>\n",
       "      <td>0</td>\n",
       "      <td>1</td>\n",
       "      <td>1.582915e+09</td>\n",
       "      <td>...</td>\n",
       "      <td>1604.900024</td>\n",
       "      <td>787.160034</td>\n",
       "      <td>1058.600098</td>\n",
       "      <td>1112.199951</td>\n",
       "      <td>1146.299927</td>\n",
       "      <td>1175.699951</td>\n",
       "      <td>585.330017</td>\n",
       "      <td>1081.699951</td>\n",
       "      <td>1092</td>\n",
       "      <td>1130.099976</td>\n",
       "    </tr>\n",
       "  </tbody>\n",
       "</table>\n",
       "<p>5 rows × 284 columns</p>\n",
       "</div>"
      ],
      "text/plain": [
       "                                     forceMagnitude            fx          fy  \\\n",
       "2020-02-28 18:33:37.005091476+00:00   172622.453125 -9.536743e-07 -504.298401   \n",
       "2020-02-28 18:33:37.028841977+00:00   172622.453125 -9.536743e-07 -504.298401   \n",
       "2020-02-28 18:33:37.068140250+00:00   172622.453125 -9.536743e-07 -504.298401   \n",
       "2020-02-28 18:33:37.140213202+00:00   172622.453125 -9.536743e-07 -504.298401   \n",
       "2020-02-28 18:33:37.172787669+00:00   172622.453125 -9.536743e-07 -504.298401   \n",
       "\n",
       "                                               fz          mx          my  \\\n",
       "2020-02-28 18:33:37.005091476+00:00  172621.71875 -662.138672 -634.672363   \n",
       "2020-02-28 18:33:37.028841977+00:00  172621.71875 -662.138672 -634.672363   \n",
       "2020-02-28 18:33:37.068140250+00:00  172621.71875 -662.138672 -634.672363   \n",
       "2020-02-28 18:33:37.140213202+00:00  172621.71875 -662.138672 -634.672363   \n",
       "2020-02-28 18:33:37.172787669+00:00  172621.71875 -662.138672 -634.672363   \n",
       "\n",
       "                                           mz  priority  private_host  \\\n",
       "2020-02-28 18:33:37.005091476+00:00 -0.564822         0             1   \n",
       "2020-02-28 18:33:37.028841977+00:00 -0.564822         0             1   \n",
       "2020-02-28 18:33:37.068140250+00:00 -0.564822         0             1   \n",
       "2020-02-28 18:33:37.140213202+00:00 -0.564822         0             1   \n",
       "2020-02-28 18:33:37.172787669+00:00 -0.564822         0             1   \n",
       "\n",
       "                                     private_kafkaStamp  ...    zForces90  \\\n",
       "2020-02-28 18:33:37.005091476+00:00        1.582915e+09  ...  1604.900024   \n",
       "2020-02-28 18:33:37.028841977+00:00        1.582915e+09  ...  1604.900024   \n",
       "2020-02-28 18:33:37.068140250+00:00        1.582915e+09  ...  1604.900024   \n",
       "2020-02-28 18:33:37.140213202+00:00        1.582915e+09  ...  1604.900024   \n",
       "2020-02-28 18:33:37.172787669+00:00        1.582915e+09  ...  1604.900024   \n",
       "\n",
       "                                      zForces91    zForces92    zForces93  \\\n",
       "2020-02-28 18:33:37.005091476+00:00  787.160034  1058.600098  1112.199951   \n",
       "2020-02-28 18:33:37.028841977+00:00  787.160034  1058.600098  1112.199951   \n",
       "2020-02-28 18:33:37.068140250+00:00  787.160034  1058.600098  1112.199951   \n",
       "2020-02-28 18:33:37.140213202+00:00  787.160034  1058.600098  1112.199951   \n",
       "2020-02-28 18:33:37.172787669+00:00  787.160034  1058.600098  1112.199951   \n",
       "\n",
       "                                       zForces94    zForces95   zForces96  \\\n",
       "2020-02-28 18:33:37.005091476+00:00  1146.299927  1175.699951  585.330017   \n",
       "2020-02-28 18:33:37.028841977+00:00  1146.299927  1175.699951  585.330017   \n",
       "2020-02-28 18:33:37.068140250+00:00  1146.299927  1175.699951  585.330017   \n",
       "2020-02-28 18:33:37.140213202+00:00  1146.299927  1175.699951  585.330017   \n",
       "2020-02-28 18:33:37.172787669+00:00  1146.299927  1175.699951  585.330017   \n",
       "\n",
       "                                       zForces97  zForces98    zForces99  \n",
       "2020-02-28 18:33:37.005091476+00:00  1081.699951       1092  1130.099976  \n",
       "2020-02-28 18:33:37.028841977+00:00  1081.699951       1092  1130.099976  \n",
       "2020-02-28 18:33:37.068140250+00:00  1081.699951       1092  1130.099976  \n",
       "2020-02-28 18:33:37.140213202+00:00  1081.699951       1092  1130.099976  \n",
       "2020-02-28 18:33:37.172787669+00:00  1081.699951       1092  1130.099976  \n",
       "\n",
       "[5 rows x 284 columns]"
      ]
     },
     "execution_count": 3,
     "metadata": {},
     "output_type": "execute_result"
    }
   ],
   "source": [
    "info['table_name'] = 'lsst.sal.MTM1M3.logevent_appliedForces'\n",
    "df = await client.select_time_series(info['table_name'], '*',\n",
    "                                              info['start_time'].tai, info['end_time'].tai, csc_index)\n",
    "df.head()"
   ]
  },
  {
   "cell_type": "code",
   "execution_count": 4,
   "metadata": {},
   "outputs": [
    {
     "data": {
      "image/png": "[encoded data removed]",
      "text/plain": [
       "<Figure size 1296x720 with 3 Axes>"
      ]
     },
     "metadata": {
      "needs_background": "light"
     },
     "output_type": "display_data"
    }
   ],
   "source": [
    "fig, ax = plt.subplots(3,figsize=(18,10), sharex=True)\n",
    "for i in range(12):\n",
    "    ax[0].plot(pd.to_datetime(df.private_sndStamp, unit='s'), df['xForces%d'%i])\n",
    "for i in range(100):\n",
    "    ax[1].plot(pd.to_datetime(df.private_sndStamp, unit='s'), df['yForces%d'%i])\n",
    "for i in range(156):\n",
    "    ax[2].plot(pd.to_datetime(df.private_sndStamp, unit='s'), df['zForces%d'%i])\n",
    "ax[0].set_ylabel('xForces')\n",
    "ax[1].set_ylabel('yForces')\n",
    "ax[2].set_ylabel('zForces')\n",
    "fig.subplots_adjust(hspace=0)"
   ]
  },
  {
   "cell_type": "code",
   "execution_count": 5,
   "metadata": {},
   "outputs": [],
   "source": [
    "F = assembleFfromEFD(df)"
   ]
  },
  {
   "cell_type": "code",
   "execution_count": 6,
   "metadata": {},
   "outputs": [
    {
     "data": {
      "text/plain": [
       "array([[ 101.        ,    0.        ,    0.        ,  580.41998291],\n",
       "       [ 102.        ,    0.        ,   -5.48150015,  964.05004883],\n",
       "       [ 103.        ,    0.        ,   -5.48150015, 1046.89990234],\n",
       "       [ 104.        ,    0.        ,   -5.48150015, 1259.09997559],\n",
       "       [ 105.        ,    0.        ,   -5.48150015, 1164.80004883],\n",
       "       [ 106.        ,    0.        ,    0.        , 1398.59997559],\n",
       "       [ 107.        ,    0.        ,    0.        ,  586.63000488],\n",
       "       [ 108.        ,    0.        ,   -5.48150015,  931.2300415 ],\n",
       "       [ 109.        ,    0.        ,   -5.48150015, 1032.09997559],\n",
       "       [ 110.        ,    0.        ,   -5.48150015, 1218.59997559],\n",
       "       [ 111.        ,    0.        ,   -5.48150015, 1266.5       ],\n",
       "       [ 112.        ,    5.48150015,    0.        , 1345.        ],\n",
       "       [ 113.        ,    0.        ,   -5.48150015, 1568.90002441],\n",
       "       [ 114.        ,    0.        ,   -5.48150015,  821.77996826],\n",
       "       [ 115.        ,    0.        ,   -5.48150015, 1064.60009766],\n",
       "       [ 116.        ,    0.        ,   -5.48150015, 1154.5       ],\n",
       "       [ 117.        ,    0.        ,   -5.48150015, 1180.90002441],\n",
       "       [ 118.        ,    0.        ,   -5.48150015, 1178.40002441],\n",
       "       [ 119.        ,    0.        ,    0.        ,  571.42004395],\n",
       "       [ 120.        ,    0.        ,   -5.48150015, 1016.89996338],\n",
       "       [ 121.        ,    0.        ,   -5.48150015, 1051.5       ],\n",
       "       [ 122.        ,    0.        ,   -5.48150015, 1129.79992676],\n",
       "       [ 123.        ,    0.        ,   -5.48150015, 1261.20007324],\n",
       "       [ 124.        ,    0.        ,   -5.48150015, 1339.09997559],\n",
       "       [ 125.        ,    0.        ,    0.        , 1026.59997559],\n",
       "       [ 126.        ,    0.        ,   -5.48150015, 2113.09985352],\n",
       "       [ 127.        ,    0.        ,   -5.48150015,  979.71002197],\n",
       "       [ 128.        ,    5.48150015,    0.        , 1243.79992676],\n",
       "       [ 129.        ,    0.        ,   -5.48150015, 1262.70007324],\n",
       "       [ 130.        ,    0.        ,   -5.48150015, 1114.19995117],\n",
       "       [ 131.        ,    0.        ,    0.        , 1094.79992676],\n",
       "       [ 132.        ,    0.        ,   -5.48150015, 1151.        ],\n",
       "       [ 133.        ,    0.        ,   -5.48150015, 1251.20007324],\n",
       "       [ 134.        ,    0.        ,   -5.48150015, 1063.79992676],\n",
       "       [ 135.        ,    5.48150015,    0.        , 1458.19995117],\n",
       "       [ 136.        ,    0.        ,    0.        ,  993.22003174],\n",
       "       [ 137.        ,    0.        ,   -5.48150015, 1198.70007324],\n",
       "       [ 138.        ,    0.        ,   -5.48150015, 1241.59997559],\n",
       "       [ 139.        ,    0.        ,    0.        ,  753.92999268],\n",
       "       [ 140.        ,    0.        ,    0.        , 1280.70007324],\n",
       "       [ 141.        ,    0.        ,    0.        , 1216.70007324],\n",
       "       [ 142.        ,    0.        ,    0.        , 1149.5       ],\n",
       "       [ 143.        ,    0.        ,    0.        ,  563.85998535],\n",
       "       [ 207.        ,    0.        ,    0.        ,  651.55999756],\n",
       "       [ 208.        ,    0.        ,   -5.48150015,  979.13000488],\n",
       "       [ 209.        ,    0.        ,   -5.48150015, 1011.89996338],\n",
       "       [ 210.        ,    0.        ,   -5.48150015, 1176.20007324],\n",
       "       [ 211.        ,    0.        ,   -5.48150015, 1240.5       ],\n",
       "       [ 212.        ,   -5.48150015,    0.        , 1344.59997559],\n",
       "       [ 214.        ,    0.        ,   -5.48150015,  812.57000732],\n",
       "       [ 215.        ,    0.        ,   -5.48150015, 1076.5       ],\n",
       "       [ 216.        ,    0.        ,   -5.48150015, 1121.90002441],\n",
       "       [ 217.        ,    0.        ,   -5.48150015, 1147.80004883],\n",
       "       [ 218.        ,    0.        ,   -5.48150015, 1170.70007324],\n",
       "       [ 219.        ,    0.        ,    0.        ,  583.53997803],\n",
       "       [ 220.        ,    0.        ,   -5.48150015, 1035.30004883],\n",
       "       [ 221.        ,    0.        ,   -5.48150015, 1061.40002441],\n",
       "       [ 222.        ,    0.        ,   -5.48150015, 1115.20007324],\n",
       "       [ 223.        ,    0.        ,   -5.48150015, 1239.5       ],\n",
       "       [ 224.        ,    0.        ,   -5.48150015, 1335.5       ],\n",
       "       [ 225.        ,    0.        ,    0.        , 1036.79992676],\n",
       "       [ 227.        ,    0.        ,   -5.48150015, 1045.        ],\n",
       "       [ 228.        ,   -5.48150015,    0.        , 1233.        ],\n",
       "       [ 229.        ,    0.        ,   -5.48150015, 1252.79992676],\n",
       "       [ 230.        ,    0.        ,   -5.48150015, 1120.40002441],\n",
       "       [ 231.        ,    0.        ,    0.        , 1115.59997559],\n",
       "       [ 232.        ,    0.        ,   -5.48150015, 1145.        ],\n",
       "       [ 233.        ,    0.        ,   -5.48150015, 1238.5       ],\n",
       "       [ 234.        ,    0.        ,   -5.48150015, 1057.90002441],\n",
       "       [ 235.        ,   -5.48150015,    0.        , 1473.        ],\n",
       "       [ 236.        ,    0.        ,    0.        , 1019.29998779],\n",
       "       [ 237.        ,    0.        ,   -5.48150015, 1194.80004883],\n",
       "       [ 238.        ,    0.        ,   -5.48150015, 1259.20007324],\n",
       "       [ 239.        ,    0.        ,    0.        ,  749.47998047],\n",
       "       [ 240.        ,    0.        ,    0.        , 1290.90002441],\n",
       "       [ 241.        ,    0.        ,    0.        , 1212.39990234],\n",
       "       [ 242.        ,    0.        ,    0.        , 1141.90002441],\n",
       "       [ 243.        ,    0.        ,    0.        ,  559.10998535],\n",
       "       [ 301.        ,    0.        ,    0.        ,  580.94000244],\n",
       "       [ 302.        ,    0.        ,   -5.48150015,  948.2800293 ],\n",
       "       [ 303.        ,    0.        ,   -5.48150015, 1009.29998779],\n",
       "       [ 304.        ,    0.        ,   -5.48150015, 1230.90002441],\n",
       "       [ 305.        ,    0.        ,   -5.48150015, 1158.5       ],\n",
       "       [ 306.        ,    0.        ,    0.        , 1413.69995117],\n",
       "       [ 307.        ,    0.        ,    0.        ,  616.22998047],\n",
       "       [ 308.        ,    0.        ,   -5.48150015,  918.29998779],\n",
       "       [ 309.        ,    0.        ,   -5.48150015,  986.97003174],\n",
       "       [ 310.        ,    0.        ,   -5.48150015, 1169.5       ],\n",
       "       [ 311.        ,    0.        ,    5.48150015, 1227.59997559],\n",
       "       [ 312.        ,   -5.48150015,    0.        , 1352.70007324],\n",
       "       [ 313.        ,    0.        ,   -5.48150015, 1604.90002441],\n",
       "       [ 314.        ,    0.        ,   -5.48150015,  787.16003418],\n",
       "       [ 315.        ,    0.        ,   -5.48150015, 1058.60009766],\n",
       "       [ 316.        ,    0.        ,   -5.48150015, 1112.19995117],\n",
       "       [ 317.        ,    0.        ,   -5.48150015, 1146.29992676],\n",
       "       [ 318.        ,    0.        ,   -5.48150015, 1175.69995117],\n",
       "       [ 319.        ,    0.        ,    0.        ,  585.33001709],\n",
       "       [ 320.        ,    0.        ,   -5.48150015, 1081.69995117],\n",
       "       [ 321.        ,    0.        ,   -5.48150015, 1092.        ],\n",
       "       [ 322.        ,    0.        ,   -5.48150015, 1130.09997559],\n",
       "       [ 323.        ,    0.        ,   -5.48150015, 1239.69995117],\n",
       "       [ 324.        ,    0.        ,   -5.48150015, 1310.09997559],\n",
       "       [ 325.        ,    0.        ,    0.        , 1021.29998779],\n",
       "       [ 326.        ,    0.        ,   -5.48150015, 2050.30004883],\n",
       "       [ 327.        ,    0.        ,   -5.48150015,  932.27001953],\n",
       "       [ 328.        ,   -5.48150015,    0.        , 1274.30004883],\n",
       "       [ 329.        ,    0.        ,   -5.48150015, 1255.5       ],\n",
       "       [ 330.        ,    0.        ,   -5.48150015, 1101.80004883],\n",
       "       [ 331.        ,    0.        ,    0.        , 1081.60009766],\n",
       "       [ 332.        ,    0.        ,   -5.48150015, 1180.69995117],\n",
       "       [ 333.        ,    0.        ,   -5.48150015, 1296.70007324],\n",
       "       [ 334.        ,    0.        ,    5.48150015, 1070.69995117],\n",
       "       [ 335.        ,   -5.48150015,    0.        , 1454.59997559],\n",
       "       [ 336.        ,    0.        ,    0.        ,  977.59997559],\n",
       "       [ 337.        ,    0.        ,   -5.48150015, 1197.        ],\n",
       "       [ 338.        ,    0.        ,   -5.48150015, 1238.69995117],\n",
       "       [ 339.        ,    0.        ,    0.        ,  777.46002197],\n",
       "       [ 340.        ,    0.        ,    0.        , 1280.5       ],\n",
       "       [ 341.        ,    0.        ,    0.        , 1176.        ],\n",
       "       [ 342.        ,    0.        ,    0.        , 1132.        ],\n",
       "       [ 343.        ,    0.        ,    0.        ,  563.76000977],\n",
       "       [ 407.        ,    0.        ,    0.        ,  637.05999756],\n",
       "       [ 408.        ,    0.        ,   -5.48150015,  941.39001465],\n",
       "       [ 409.        ,    0.        ,   -5.48150015, 1006.26000977],\n",
       "       [ 410.        ,    0.        ,   -5.48150015, 1183.19995117],\n",
       "       [ 411.        ,    0.        ,    5.48150015, 1232.5       ],\n",
       "       [ 412.        ,    5.48150015,    0.        , 1338.60009766],\n",
       "       [ 414.        ,    0.        ,   -5.48150015,  848.23999023],\n",
       "       [ 415.        ,    0.        ,   -5.48150015, 1041.80004883],\n",
       "       [ 416.        ,    0.        ,   -5.48150015, 1095.90002441],\n",
       "       [ 417.        ,    0.        ,   -5.48150015, 1141.80004883],\n",
       "       [ 418.        ,    0.        ,   -5.48150015, 1170.09997559],\n",
       "       [ 419.        ,    0.        ,    0.        ,  567.77001953],\n",
       "       [ 420.        ,    0.        ,   -5.48150015, 1054.        ],\n",
       "       [ 421.        ,    0.        ,   -5.48150015, 1038.80004883],\n",
       "       [ 422.        ,    0.        ,   -5.48150015, 1085.59997559],\n",
       "       [ 423.        ,    0.        ,   -5.48150015, 1225.59997559],\n",
       "       [ 424.        ,    0.        ,   -5.48150015, 1316.70007324],\n",
       "       [ 425.        ,    0.        ,    0.        , 1022.39996338],\n",
       "       [ 427.        ,    0.        ,   -5.48150015, 1009.40002441],\n",
       "       [ 428.        ,    5.48150015,    0.        , 1224.59997559],\n",
       "       [ 429.        ,    0.        ,   -5.48150015, 1238.20007324],\n",
       "       [ 430.        ,    0.        ,   -5.48150015, 1120.5       ],\n",
       "       [ 431.        ,    0.        ,    0.        , 1112.80004883],\n",
       "       [ 432.        ,    0.        ,   -5.48150015, 1158.40002441],\n",
       "       [ 433.        ,    0.        ,   -5.48150015, 1265.30004883],\n",
       "       [ 434.        ,    0.        ,    5.48150015, 1061.70007324],\n",
       "       [ 435.        ,    5.48150015,    0.        , 1489.59997559],\n",
       "       [ 436.        ,    0.        ,    0.        , 1028.20007324],\n",
       "       [ 437.        ,    0.        ,   -5.48150015, 1193.89990234],\n",
       "       [ 438.        ,    0.        ,   -5.48150015, 1231.30004883],\n",
       "       [ 439.        ,    0.        ,    0.        ,  778.45996094],\n",
       "       [ 440.        ,    0.        ,    0.        , 1321.19995117],\n",
       "       [ 441.        ,    0.        ,    0.        , 1177.30004883],\n",
       "       [ 442.        ,    0.        ,    0.        , 1142.30004883],\n",
       "       [ 443.        ,    0.        ,    0.        ,  582.22998047]])"
      ]
     },
     "execution_count": 6,
     "metadata": {},
     "output_type": "execute_result"
    }
   ],
   "source": [
    "F"
   ]
  },
  {
   "cell_type": "markdown",
   "metadata": {},
   "source": [
    "#### check the components of the forces"
   ]
  },
  {
   "cell_type": "code",
   "execution_count": 7,
   "metadata": {},
   "outputs": [],
   "source": [
    "#await client.get_topics()\n",
    "#await client.get_fields('lsst.sal.MTM1M3.logevent_appliedBalanceForces')"
   ]
  },
  {
   "cell_type": "code",
   "execution_count": 8,
   "metadata": {},
   "outputs": [
    {
     "name": "stdout",
     "output_type": "stream",
     "text": [
      "max = 2125.70, min = -5.48\n"
     ]
    }
   ],
   "source": [
    "info['table_name'] = 'lsst.sal.MTM1M3.logevent_appliedElevationForces'\n",
    "df0 = await client.select_time_series(info['table_name'], '*',\n",
    "                                              info['start_time'].tai, info['end_time'].tai, csc_index)\n",
    "F0 = assembleFfromEFD(df0)\n",
    "print('max = %.2f, min = %.2f'%(np.max(F0[:,1:]), np.min(F0[:,1:])))"
   ]
  },
  {
   "cell_type": "code",
   "execution_count": 9,
   "metadata": {},
   "outputs": [
    {
     "name": "stdout",
     "output_type": "stream",
     "text": [
      "max = 0.00, min = 0.00\n"
     ]
    }
   ],
   "source": [
    "info['table_name'] = 'lsst.sal.MTM1M3.logevent_appliedAzimuthForces'\n",
    "df0 = await client.select_time_series(info['table_name'], '*',\n",
    "                                              info['start_time'].tai, info['end_time'].tai, csc_index)\n",
    "F0 = assembleFfromEFD(df0)\n",
    "print('max = %.2f, min = %.2f'%(np.max(F0[:,1:]), np.min(F0[:,1:])))"
   ]
  },
  {
   "cell_type": "code",
   "execution_count": 10,
   "metadata": {},
   "outputs": [
    {
     "name": "stdout",
     "output_type": "stream",
     "text": [
      "max = 0.00, min = 0.00\n"
     ]
    }
   ],
   "source": [
    "info['table_name'] = 'lsst.sal.MTM1M3.logevent_appliedThermalForces'\n",
    "df0 = await client.select_time_series(info['table_name'], '*',\n",
    "                                              info['start_time'].tai, info['end_time'].tai, csc_index)\n",
    "F0 = assembleFfromEFD(df0)\n",
    "print('max = %.2f, min = %.2f'%(np.max(F0[:,1:]), np.min(F0[:,1:])))"
   ]
  },
  {
   "cell_type": "code",
   "execution_count": 11,
   "metadata": {},
   "outputs": [
    {
     "data": {
      "text/html": [
       "<div>\n",
       "<style scoped>\n",
       "    .dataframe tbody tr th:only-of-type {\n",
       "        vertical-align: middle;\n",
       "    }\n",
       "\n",
       "    .dataframe tbody tr th {\n",
       "        vertical-align: top;\n",
       "    }\n",
       "\n",
       "    .dataframe thead th {\n",
       "        text-align: right;\n",
       "    }\n",
       "</style>\n",
       "<table border=\"1\" class=\"dataframe\">\n",
       "  <thead>\n",
       "    <tr style=\"text-align: right;\">\n",
       "      <th></th>\n",
       "    </tr>\n",
       "  </thead>\n",
       "  <tbody>\n",
       "  </tbody>\n",
       "</table>\n",
       "</div>"
      ],
      "text/plain": [
       "Empty DataFrame\n",
       "Columns: []\n",
       "Index: []"
      ]
     },
     "execution_count": 11,
     "metadata": {},
     "output_type": "execute_result"
    }
   ],
   "source": [
    "# we did not enable force balance at that time (not in engineering state)\n",
    "info['table_name'] = 'lsst.sal.MTM1M3.logevent_appliedBalanceForces'\n",
    "df0 = await client.select_time_series(info['table_name'], '*',\n",
    "                                              info['start_time'].tai, info['end_time'].tai, csc_index)\n",
    "df0.head()"
   ]
  },
  {
   "cell_type": "code",
   "execution_count": 12,
   "metadata": {},
   "outputs": [
    {
     "data": {
      "text/html": [
       "<div>\n",
       "<style scoped>\n",
       "    .dataframe tbody tr th:only-of-type {\n",
       "        vertical-align: middle;\n",
       "    }\n",
       "\n",
       "    .dataframe tbody tr th {\n",
       "        vertical-align: top;\n",
       "    }\n",
       "\n",
       "    .dataframe thead th {\n",
       "        text-align: right;\n",
       "    }\n",
       "</style>\n",
       "<table border=\"1\" class=\"dataframe\">\n",
       "  <thead>\n",
       "    <tr style=\"text-align: right;\">\n",
       "      <th></th>\n",
       "    </tr>\n",
       "  </thead>\n",
       "  <tbody>\n",
       "  </tbody>\n",
       "</table>\n",
       "</div>"
      ],
      "text/plain": [
       "Empty DataFrame\n",
       "Columns: []\n",
       "Index: []"
      ]
     },
     "execution_count": 12,
     "metadata": {},
     "output_type": "execute_result"
    }
   ],
   "source": [
    "# we were not slewing. Acceleration forces were not enabled\n",
    "info['table_name'] = 'lsst.sal.MTM1M3.logevent_appliedAccelerationForces'\n",
    "df0 = await client.select_time_series(info['table_name'], '*',\n",
    "                                              info['start_time'].tai, info['end_time'].tai, csc_index)\n",
    "df0.head()"
   ]
  },
  {
   "cell_type": "code",
   "execution_count": 13,
   "metadata": {},
   "outputs": [
    {
     "data": {
      "text/html": [
       "<div>\n",
       "<style scoped>\n",
       "    .dataframe tbody tr th:only-of-type {\n",
       "        vertical-align: middle;\n",
       "    }\n",
       "\n",
       "    .dataframe tbody tr th {\n",
       "        vertical-align: top;\n",
       "    }\n",
       "\n",
       "    .dataframe thead th {\n",
       "        text-align: right;\n",
       "    }\n",
       "</style>\n",
       "<table border=\"1\" class=\"dataframe\">\n",
       "  <thead>\n",
       "    <tr style=\"text-align: right;\">\n",
       "      <th></th>\n",
       "    </tr>\n",
       "  </thead>\n",
       "  <tbody>\n",
       "  </tbody>\n",
       "</table>\n",
       "</div>"
      ],
      "text/plain": [
       "Empty DataFrame\n",
       "Columns: []\n",
       "Index: []"
      ]
     },
     "execution_count": 13,
     "metadata": {},
     "output_type": "execute_result"
    }
   ],
   "source": [
    "# we were not slewing. Velocity forces were not enabled\n",
    "info['table_name'] = 'lsst.sal.MTM1M3.logevent_appliedVelocityForces'\n",
    "df0 = await client.select_time_series(info['table_name'], '*',\n",
    "                                              info['start_time'].tai, info['end_time'].tai, csc_index)\n",
    "df0.head()"
   ]
  },
  {
   "cell_type": "code",
   "execution_count": 14,
   "metadata": {},
   "outputs": [
    {
     "data": {
      "text/html": [
       "<div>\n",
       "<style scoped>\n",
       "    .dataframe tbody tr th:only-of-type {\n",
       "        vertical-align: middle;\n",
       "    }\n",
       "\n",
       "    .dataframe tbody tr th {\n",
       "        vertical-align: top;\n",
       "    }\n",
       "\n",
       "    .dataframe thead th {\n",
       "        text-align: right;\n",
       "    }\n",
       "</style>\n",
       "<table border=\"1\" class=\"dataframe\">\n",
       "  <thead>\n",
       "    <tr style=\"text-align: right;\">\n",
       "      <th></th>\n",
       "    </tr>\n",
       "  </thead>\n",
       "  <tbody>\n",
       "  </tbody>\n",
       "</table>\n",
       "</div>"
      ],
      "text/plain": [
       "Empty DataFrame\n",
       "Columns: []\n",
       "Index: []"
      ]
     },
     "execution_count": 14,
     "metadata": {},
     "output_type": "execute_result"
    }
   ],
   "source": [
    "# we were not slewing. ActiveOptics forces were not enabled\n",
    "info['table_name'] = 'lsst.sal.MTM1M3.logevent_appliedActiveOpticsForces'\n",
    "df0 = await client.select_time_series(info['table_name'], '*',\n",
    "                                              info['start_time'].tai, info['end_time'].tai, csc_index)\n",
    "df0.head()"
   ]
  },
  {
   "cell_type": "code",
   "execution_count": 15,
   "metadata": {},
   "outputs": [
    {
     "name": "stdout",
     "output_type": "stream",
     "text": [
      "max = 14.00, min = -20.30\n"
     ]
    }
   ],
   "source": [
    "info['table_name'] = 'lsst.sal.MTM1M3.logevent_appliedStaticForces'\n",
    "df0 = await client.select_time_series(info['table_name'], '*',\n",
    "                                              info['start_time'].tai, info['end_time'].tai, csc_index)\n",
    "F0 = assembleFfromEFD(df0)\n",
    "print('max = %.2f, min = %.2f'%(np.max(F0[:,1:]), np.min(F0[:,1:])))"
   ]
  },
  {
   "cell_type": "code",
   "execution_count": 16,
   "metadata": {},
   "outputs": [
    {
     "data": {
      "text/html": [
       "<div>\n",
       "<style scoped>\n",
       "    .dataframe tbody tr th:only-of-type {\n",
       "        vertical-align: middle;\n",
       "    }\n",
       "\n",
       "    .dataframe tbody tr th {\n",
       "        vertical-align: top;\n",
       "    }\n",
       "\n",
       "    .dataframe thead th {\n",
       "        text-align: right;\n",
       "    }\n",
       "</style>\n",
       "<table border=\"1\" class=\"dataframe\">\n",
       "  <thead>\n",
       "    <tr style=\"text-align: right;\">\n",
       "      <th></th>\n",
       "    </tr>\n",
       "  </thead>\n",
       "  <tbody>\n",
       "  </tbody>\n",
       "</table>\n",
       "</div>"
      ],
      "text/plain": [
       "Empty DataFrame\n",
       "Columns: []\n",
       "Index: []"
      ]
     },
     "execution_count": 16,
     "metadata": {},
     "output_type": "execute_result"
    }
   ],
   "source": [
    "#no aberration forces\n",
    "info['table_name'] = 'lsst.sal.MTM1M3.logevent_appliedAberrationForces'\n",
    "df0 = await client.select_time_series(info['table_name'], '*',\n",
    "                                              info['start_time'].tai, info['end_time'].tai, csc_index)\n",
    "df0.head()"
   ]
  },
  {
   "cell_type": "code",
   "execution_count": 17,
   "metadata": {},
   "outputs": [
    {
     "data": {
      "text/html": [
       "<div>\n",
       "<style scoped>\n",
       "    .dataframe tbody tr th:only-of-type {\n",
       "        vertical-align: middle;\n",
       "    }\n",
       "\n",
       "    .dataframe tbody tr th {\n",
       "        vertical-align: top;\n",
       "    }\n",
       "\n",
       "    .dataframe thead th {\n",
       "        text-align: right;\n",
       "    }\n",
       "</style>\n",
       "<table border=\"1\" class=\"dataframe\">\n",
       "  <thead>\n",
       "    <tr style=\"text-align: right;\">\n",
       "      <th></th>\n",
       "    </tr>\n",
       "  </thead>\n",
       "  <tbody>\n",
       "  </tbody>\n",
       "</table>\n",
       "</div>"
      ],
      "text/plain": [
       "Empty DataFrame\n",
       "Columns: []\n",
       "Index: []"
      ]
     },
     "execution_count": 17,
     "metadata": {},
     "output_type": "execute_result"
    }
   ],
   "source": [
    "#no offset forces\n",
    "info['table_name'] = 'lsst.sal.MTM1M3.logevent_appliedOffsetForces'\n",
    "df0 = await client.select_time_series(info['table_name'], '*',\n",
    "                                              info['start_time'].tai, info['end_time'].tai, csc_index)\n",
    "df0.head()"
   ]
  },
  {
   "cell_type": "markdown",
   "metadata": {},
   "source": [
    "#### To summarize, when the mirrior is first raised\n",
    "dominant = MTM1M3_logevent_appliedElevationForces.  LUT vs elevation\n",
    "\n",
    "0        = MTM1M3_logevent_appliedAzimuthForces.  Azimuth drive imperfection. ~0\n",
    "\n",
    "0        = MTM1M3_logevent_appliedThermalForces.    Thermal LUT, ~0\n",
    "\n",
    "nan      = MTM1M3_logevent_appliedBalanceForces        FB system\n",
    "\n",
    "nan      = MTM1M3_logevent_appliedAccelerationForces.   slew, DC accelerometers\n",
    "\n",
    "nan      = MTM1M3_logevent_appliedVelocityForces.      Slew, angular velocity, gyro\n",
    "\n",
    "nan      = MTM1M3_logevent_appliedActiveOpticForces       AOS forces (closed-loop)\n",
    "\n",
    "small    = MTM1M3_logevent_appliedStaticForces.   Static figure correction\n",
    "\n",
    "nan      = MTM1M3_logevent_appliedAberrationForces       AOS tests (for injecting aberrations)\n",
    "\n",
    "nan      = MTM1M3_logevent_appliedOffsetForces         bump test"
   ]
  },
  {
   "cell_type": "code",
   "execution_count": 18,
   "metadata": {},
   "outputs": [
    {
     "data": {
      "text/plain": [
       "99.875"
      ]
     },
     "execution_count": 18,
     "metadata": {},
     "output_type": "execute_result"
    }
   ],
   "source": [
    "#seems that we send out logevents at 20 Hz\n",
    "len(df)/(2*60*20)*100"
   ]
  },
  {
   "cell_type": "markdown",
   "metadata": {},
   "source": [
    "### measured forces"
   ]
  },
  {
   "cell_type": "code",
   "execution_count": 19,
   "metadata": {},
   "outputs": [
    {
     "data": {
      "text/html": [
       "<div>\n",
       "<style scoped>\n",
       "    .dataframe tbody tr th:only-of-type {\n",
       "        vertical-align: middle;\n",
       "    }\n",
       "\n",
       "    .dataframe tbody tr th {\n",
       "        vertical-align: top;\n",
       "    }\n",
       "\n",
       "    .dataframe thead th {\n",
       "        text-align: right;\n",
       "    }\n",
       "</style>\n",
       "<table border=\"1\" class=\"dataframe\">\n",
       "  <thead>\n",
       "    <tr style=\"text-align: right;\">\n",
       "      <th></th>\n",
       "      <th>forceMagnitude</th>\n",
       "      <th>fx</th>\n",
       "      <th>fy</th>\n",
       "      <th>fz</th>\n",
       "      <th>mx</th>\n",
       "      <th>my</th>\n",
       "      <th>mz</th>\n",
       "      <th>primaryCylinderForce0</th>\n",
       "      <th>primaryCylinderForce1</th>\n",
       "      <th>primaryCylinderForce10</th>\n",
       "      <th>...</th>\n",
       "      <th>zForce90</th>\n",
       "      <th>zForce91</th>\n",
       "      <th>zForce92</th>\n",
       "      <th>zForce93</th>\n",
       "      <th>zForce94</th>\n",
       "      <th>zForce95</th>\n",
       "      <th>zForce96</th>\n",
       "      <th>zForce97</th>\n",
       "      <th>zForce98</th>\n",
       "      <th>zForce99</th>\n",
       "    </tr>\n",
       "  </thead>\n",
       "  <tbody>\n",
       "    <tr>\n",
       "      <th>2020-02-28 18:33:37.005703297+00:00</th>\n",
       "      <td>172655.765625</td>\n",
       "      <td>0.321649</td>\n",
       "      <td>-502.204529</td>\n",
       "      <td>172655.03125</td>\n",
       "      <td>-660.924805</td>\n",
       "      <td>-636.385498</td>\n",
       "      <td>1.445384</td>\n",
       "      <td>580.888367</td>\n",
       "      <td>969.531372</td>\n",
       "      <td>1271.834595</td>\n",
       "      <td>...</td>\n",
       "      <td>1604.702271</td>\n",
       "      <td>786.817078</td>\n",
       "      <td>1058.417114</td>\n",
       "      <td>1112.219971</td>\n",
       "      <td>1146.251465</td>\n",
       "      <td>1175.609253</td>\n",
       "      <td>585.374146</td>\n",
       "      <td>1081.423584</td>\n",
       "      <td>1092.013672</td>\n",
       "      <td>1130.072998</td>\n",
       "    </tr>\n",
       "    <tr>\n",
       "      <th>2020-02-28 18:33:37.047582937+00:00</th>\n",
       "      <td>172653.656250</td>\n",
       "      <td>0.028979</td>\n",
       "      <td>-507.281586</td>\n",
       "      <td>172652.90625</td>\n",
       "      <td>-642.325195</td>\n",
       "      <td>-615.853455</td>\n",
       "      <td>-3.923311</td>\n",
       "      <td>580.953430</td>\n",
       "      <td>969.500366</td>\n",
       "      <td>1271.803101</td>\n",
       "      <td>...</td>\n",
       "      <td>1604.684692</td>\n",
       "      <td>787.022156</td>\n",
       "      <td>1058.526123</td>\n",
       "      <td>1112.290161</td>\n",
       "      <td>1146.334229</td>\n",
       "      <td>1175.583618</td>\n",
       "      <td>585.665100</td>\n",
       "      <td>1081.396118</td>\n",
       "      <td>1092.088623</td>\n",
       "      <td>1130.072998</td>\n",
       "    </tr>\n",
       "    <tr>\n",
       "      <th>2020-02-28 18:33:37.047918134+00:00</th>\n",
       "      <td>172657.578125</td>\n",
       "      <td>0.758381</td>\n",
       "      <td>-504.499634</td>\n",
       "      <td>172656.84375</td>\n",
       "      <td>-675.007812</td>\n",
       "      <td>-634.324524</td>\n",
       "      <td>0.239769</td>\n",
       "      <td>581.018555</td>\n",
       "      <td>969.438232</td>\n",
       "      <td>1271.803101</td>\n",
       "      <td>...</td>\n",
       "      <td>1604.754395</td>\n",
       "      <td>787.279358</td>\n",
       "      <td>1058.565186</td>\n",
       "      <td>1112.159302</td>\n",
       "      <td>1146.278687</td>\n",
       "      <td>1175.517944</td>\n",
       "      <td>585.180176</td>\n",
       "      <td>1081.446777</td>\n",
       "      <td>1091.921997</td>\n",
       "      <td>1130.017456</td>\n",
       "    </tr>\n",
       "    <tr>\n",
       "      <th>2020-02-28 18:33:37.128698382+00:00</th>\n",
       "      <td>172660.437500</td>\n",
       "      <td>-0.356791</td>\n",
       "      <td>-500.380005</td>\n",
       "      <td>172659.71875</td>\n",
       "      <td>-656.035400</td>\n",
       "      <td>-638.744141</td>\n",
       "      <td>-5.545192</td>\n",
       "      <td>581.148743</td>\n",
       "      <td>969.438232</td>\n",
       "      <td>1271.834595</td>\n",
       "      <td>...</td>\n",
       "      <td>1604.715942</td>\n",
       "      <td>787.219360</td>\n",
       "      <td>1058.557251</td>\n",
       "      <td>1112.177856</td>\n",
       "      <td>1146.380737</td>\n",
       "      <td>1175.697754</td>\n",
       "      <td>585.438782</td>\n",
       "      <td>1081.427856</td>\n",
       "      <td>1092.004028</td>\n",
       "      <td>1130.020630</td>\n",
       "    </tr>\n",
       "    <tr>\n",
       "      <th>2020-02-28 18:33:37.153853240+00:00</th>\n",
       "      <td>172653.718750</td>\n",
       "      <td>-1.489626</td>\n",
       "      <td>-508.525940</td>\n",
       "      <td>172652.96875</td>\n",
       "      <td>-669.100342</td>\n",
       "      <td>-629.884827</td>\n",
       "      <td>0.866935</td>\n",
       "      <td>581.311462</td>\n",
       "      <td>969.500366</td>\n",
       "      <td>1271.739990</td>\n",
       "      <td>...</td>\n",
       "      <td>1604.622925</td>\n",
       "      <td>786.962158</td>\n",
       "      <td>1058.463867</td>\n",
       "      <td>1112.028442</td>\n",
       "      <td>1146.208984</td>\n",
       "      <td>1175.694824</td>\n",
       "      <td>585.341797</td>\n",
       "      <td>1081.465576</td>\n",
       "      <td>1091.951050</td>\n",
       "      <td>1129.981567</td>\n",
       "    </tr>\n",
       "  </tbody>\n",
       "</table>\n",
       "<p>5 rows × 551 columns</p>\n",
       "</div>"
      ],
      "text/plain": [
       "                                     forceMagnitude        fx          fy  \\\n",
       "2020-02-28 18:33:37.005703297+00:00   172655.765625  0.321649 -502.204529   \n",
       "2020-02-28 18:33:37.047582937+00:00   172653.656250  0.028979 -507.281586   \n",
       "2020-02-28 18:33:37.047918134+00:00   172657.578125  0.758381 -504.499634   \n",
       "2020-02-28 18:33:37.128698382+00:00   172660.437500 -0.356791 -500.380005   \n",
       "2020-02-28 18:33:37.153853240+00:00   172653.718750 -1.489626 -508.525940   \n",
       "\n",
       "                                               fz          mx          my  \\\n",
       "2020-02-28 18:33:37.005703297+00:00  172655.03125 -660.924805 -636.385498   \n",
       "2020-02-28 18:33:37.047582937+00:00  172652.90625 -642.325195 -615.853455   \n",
       "2020-02-28 18:33:37.047918134+00:00  172656.84375 -675.007812 -634.324524   \n",
       "2020-02-28 18:33:37.128698382+00:00  172659.71875 -656.035400 -638.744141   \n",
       "2020-02-28 18:33:37.153853240+00:00  172652.96875 -669.100342 -629.884827   \n",
       "\n",
       "                                           mz  primaryCylinderForce0  \\\n",
       "2020-02-28 18:33:37.005703297+00:00  1.445384             580.888367   \n",
       "2020-02-28 18:33:37.047582937+00:00 -3.923311             580.953430   \n",
       "2020-02-28 18:33:37.047918134+00:00  0.239769             581.018555   \n",
       "2020-02-28 18:33:37.128698382+00:00 -5.545192             581.148743   \n",
       "2020-02-28 18:33:37.153853240+00:00  0.866935             581.311462   \n",
       "\n",
       "                                     primaryCylinderForce1  \\\n",
       "2020-02-28 18:33:37.005703297+00:00             969.531372   \n",
       "2020-02-28 18:33:37.047582937+00:00             969.500366   \n",
       "2020-02-28 18:33:37.047918134+00:00             969.438232   \n",
       "2020-02-28 18:33:37.128698382+00:00             969.438232   \n",
       "2020-02-28 18:33:37.153853240+00:00             969.500366   \n",
       "\n",
       "                                     primaryCylinderForce10  ...     zForce90  \\\n",
       "2020-02-28 18:33:37.005703297+00:00             1271.834595  ...  1604.702271   \n",
       "2020-02-28 18:33:37.047582937+00:00             1271.803101  ...  1604.684692   \n",
       "2020-02-28 18:33:37.047918134+00:00             1271.803101  ...  1604.754395   \n",
       "2020-02-28 18:33:37.128698382+00:00             1271.834595  ...  1604.715942   \n",
       "2020-02-28 18:33:37.153853240+00:00             1271.739990  ...  1604.622925   \n",
       "\n",
       "                                       zForce91     zForce92     zForce93  \\\n",
       "2020-02-28 18:33:37.005703297+00:00  786.817078  1058.417114  1112.219971   \n",
       "2020-02-28 18:33:37.047582937+00:00  787.022156  1058.526123  1112.290161   \n",
       "2020-02-28 18:33:37.047918134+00:00  787.279358  1058.565186  1112.159302   \n",
       "2020-02-28 18:33:37.128698382+00:00  787.219360  1058.557251  1112.177856   \n",
       "2020-02-28 18:33:37.153853240+00:00  786.962158  1058.463867  1112.028442   \n",
       "\n",
       "                                        zForce94     zForce95    zForce96  \\\n",
       "2020-02-28 18:33:37.005703297+00:00  1146.251465  1175.609253  585.374146   \n",
       "2020-02-28 18:33:37.047582937+00:00  1146.334229  1175.583618  585.665100   \n",
       "2020-02-28 18:33:37.047918134+00:00  1146.278687  1175.517944  585.180176   \n",
       "2020-02-28 18:33:37.128698382+00:00  1146.380737  1175.697754  585.438782   \n",
       "2020-02-28 18:33:37.153853240+00:00  1146.208984  1175.694824  585.341797   \n",
       "\n",
       "                                        zForce97     zForce98     zForce99  \n",
       "2020-02-28 18:33:37.005703297+00:00  1081.423584  1092.013672  1130.072998  \n",
       "2020-02-28 18:33:37.047582937+00:00  1081.396118  1092.088623  1130.072998  \n",
       "2020-02-28 18:33:37.047918134+00:00  1081.446777  1091.921997  1130.017456  \n",
       "2020-02-28 18:33:37.128698382+00:00  1081.427856  1092.004028  1130.020630  \n",
       "2020-02-28 18:33:37.153853240+00:00  1081.465576  1091.951050  1129.981567  \n",
       "\n",
       "[5 rows x 551 columns]"
      ]
     },
     "execution_count": 19,
     "metadata": {},
     "output_type": "execute_result"
    }
   ],
   "source": [
    "info['table_name'] = 'lsst.sal.MTM1M3.forceActuatorData'\n",
    "dfc = await client.select_time_series(info['table_name'], '*',\n",
    "                                              info['start_time'].tai, info['end_time'].tai, csc_index)\n",
    "dfc.head()"
   ]
  },
  {
   "cell_type": "code",
   "execution_count": 20,
   "metadata": {},
   "outputs": [],
   "source": [
    "# telemetry frequency at 20 Hz?\n",
    "len(dfc)/(2*60*20)*100\n",
    "fc = assembleFfromEFD_C1C2(dfc)"
   ]
  },
  {
   "cell_type": "markdown",
   "metadata": {},
   "source": [
    "### commanded forces vs measured forces"
   ]
  },
  {
   "cell_type": "code",
   "execution_count": 21,
   "metadata": {},
   "outputs": [
    {
     "data": {
      "image/png": "[encoded data removed]",
      "text/plain": [
       "<Figure size 432x288 with 1 Axes>"
      ]
     },
     "metadata": {
      "needs_background": "light"
     },
     "output_type": "display_data"
    }
   ],
   "source": [
    "plt.plot(fc[:,3]-F[:,3], label='z')\n",
    "plt.plot(fc[:,2]-F[:,2], label='y')\n",
    "plt.plot(fc[:,1]-F[:,1], label='x')\n",
    "plt.legend();"
   ]
  },
  {
   "cell_type": "markdown",
   "metadata": {},
   "source": [
    "### compare to optimized forces"
   ]
  },
  {
   "cell_type": "code",
   "execution_count": 22,
   "metadata": {},
   "outputs": [],
   "source": [
    "with open('data/FLUT.yaml', \"r\") as yamlFile:\n",
    "    aa = yaml.safe_load(yamlFile)\n",
    "flut = np.array(aa)\n",
    "fo = flut[0,:,:]"
   ]
  },
  {
   "cell_type": "code",
   "execution_count": 27,
   "metadata": {},
   "outputs": [
    {
     "data": {
      "image/png": "[encoded data removed]",
      "text/plain": [
       "<Figure size 432x288 with 2 Axes>"
      ]
     },
     "metadata": {
      "needs_background": "light"
     },
     "output_type": "display_data"
    }
   ],
   "source": [
    "fzd = F[:,3] - fo[:,3]\n",
    "plt.scatter(xact, yact, abs(fzd)*5e1, fzd)\n",
    "plt.colorbar()\n",
    "plt.axis('equal');\n",
    "#plt.plot(fzd)"
   ]
  },
  {
   "cell_type": "code",
   "execution_count": 28,
   "metadata": {},
   "outputs": [],
   "source": [
    "dr = pd.read_csv('data/ElevationZTable.csv')\n",
    "fzd = F[:,3] - dr['Coefficient 0']"
   ]
  },
  {
   "cell_type": "code",
   "execution_count": 38,
   "metadata": {
    "scrolled": true
   },
   "outputs": [
    {
     "data": {
      "image/png": "[encoded data removed]",
      "text/plain": [
       "<Figure size 432x288 with 2 Axes>"
      ]
     },
     "metadata": {
      "needs_background": "light"
     },
     "output_type": "display_data"
    }
   ],
   "source": [
    "plt.scatter(xact, yact, abs(fzd), fzd)\n",
    "plt.colorbar()\n",
    "plt.axis('equal');\n",
    "#plt.plot(fzd)"
   ]
  },
  {
   "cell_type": "code",
   "execution_count": 39,
   "metadata": {},
   "outputs": [
    {
     "data": {
      "text/plain": [
       "2932.760725942719"
      ]
     },
     "execution_count": 39,
     "metadata": {},
     "output_type": "execute_result"
    }
   ],
   "source": [
    "sum(fzd)"
   ]
  },
  {
   "cell_type": "code",
   "execution_count": 45,
   "metadata": {},
   "outputs": [
    {
     "name": "stdout",
     "output_type": "stream",
     "text": [
      "580.42 , 964.05\n",
      "\n"
     ]
    }
   ],
   "source": [
    "print('%.2f , %.2f\\n' %(df['zForces0'][0], df['zForces1'][0]))"
   ]
  },
  {
   "cell_type": "code",
   "execution_count": 46,
   "metadata": {},
   "outputs": [
    {
     "data": {
      "text/html": [
       "<div>\n",
       "<style scoped>\n",
       "    .dataframe tbody tr th:only-of-type {\n",
       "        vertical-align: middle;\n",
       "    }\n",
       "\n",
       "    .dataframe tbody tr th {\n",
       "        vertical-align: top;\n",
       "    }\n",
       "\n",
       "    .dataframe thead th {\n",
       "        text-align: right;\n",
       "    }\n",
       "</style>\n",
       "<table border=\"1\" class=\"dataframe\">\n",
       "  <thead>\n",
       "    <tr style=\"text-align: right;\">\n",
       "      <th></th>\n",
       "      <th>ID</th>\n",
       "      <th>Coefficient 5</th>\n",
       "      <th>Coefficient 4</th>\n",
       "      <th>Coefficient 3</th>\n",
       "      <th>Coefficient 2</th>\n",
       "      <th>Coefficient 1</th>\n",
       "      <th>Coefficient 0</th>\n",
       "    </tr>\n",
       "  </thead>\n",
       "  <tbody>\n",
       "    <tr>\n",
       "      <th>0</th>\n",
       "      <td>101</td>\n",
       "      <td>-7.000000e-09</td>\n",
       "      <td>0.000004</td>\n",
       "      <td>-0.000029</td>\n",
       "      <td>-0.113873</td>\n",
       "      <td>-0.023289</td>\n",
       "      <td>751.671180</td>\n",
       "    </tr>\n",
       "    <tr>\n",
       "      <th>1</th>\n",
       "      <td>102</td>\n",
       "      <td>-8.000000e-09</td>\n",
       "      <td>0.000004</td>\n",
       "      <td>-0.000031</td>\n",
       "      <td>-0.127973</td>\n",
       "      <td>-0.042643</td>\n",
       "      <td>844.737946</td>\n",
       "    </tr>\n",
       "    <tr>\n",
       "      <th>2</th>\n",
       "      <td>103</td>\n",
       "      <td>-9.000000e-09</td>\n",
       "      <td>0.000005</td>\n",
       "      <td>-0.000037</td>\n",
       "      <td>-0.150689</td>\n",
       "      <td>-0.041929</td>\n",
       "      <td>994.683985</td>\n",
       "    </tr>\n",
       "    <tr>\n",
       "      <th>3</th>\n",
       "      <td>104</td>\n",
       "      <td>-1.100000e-08</td>\n",
       "      <td>0.000006</td>\n",
       "      <td>-0.000046</td>\n",
       "      <td>-0.179332</td>\n",
       "      <td>-0.019597</td>\n",
       "      <td>1183.759913</td>\n",
       "    </tr>\n",
       "    <tr>\n",
       "      <th>4</th>\n",
       "      <td>105</td>\n",
       "      <td>-1.300000e-08</td>\n",
       "      <td>0.000007</td>\n",
       "      <td>-0.000055</td>\n",
       "      <td>-0.208742</td>\n",
       "      <td>0.009414</td>\n",
       "      <td>1377.906025</td>\n",
       "    </tr>\n",
       "    <tr>\n",
       "      <th>...</th>\n",
       "      <td>...</td>\n",
       "      <td>...</td>\n",
       "      <td>...</td>\n",
       "      <td>...</td>\n",
       "      <td>...</td>\n",
       "      <td>...</td>\n",
       "      <td>...</td>\n",
       "    </tr>\n",
       "    <tr>\n",
       "      <th>151</th>\n",
       "      <td>439</td>\n",
       "      <td>-1.200000e-08</td>\n",
       "      <td>0.000004</td>\n",
       "      <td>0.000294</td>\n",
       "      <td>-0.139028</td>\n",
       "      <td>-6.304943</td>\n",
       "      <td>916.143662</td>\n",
       "    </tr>\n",
       "    <tr>\n",
       "      <th>152</th>\n",
       "      <td>440</td>\n",
       "      <td>-1.400000e-08</td>\n",
       "      <td>0.000004</td>\n",
       "      <td>0.000430</td>\n",
       "      <td>-0.147472</td>\n",
       "      <td>-8.928146</td>\n",
       "      <td>971.227981</td>\n",
       "    </tr>\n",
       "    <tr>\n",
       "      <th>153</th>\n",
       "      <td>441</td>\n",
       "      <td>-1.400000e-08</td>\n",
       "      <td>0.000004</td>\n",
       "      <td>0.000467</td>\n",
       "      <td>-0.150051</td>\n",
       "      <td>-9.657882</td>\n",
       "      <td>988.073176</td>\n",
       "    </tr>\n",
       "    <tr>\n",
       "      <th>154</th>\n",
       "      <td>442</td>\n",
       "      <td>-1.400000e-08</td>\n",
       "      <td>0.000004</td>\n",
       "      <td>0.000460</td>\n",
       "      <td>-0.149881</td>\n",
       "      <td>-9.512153</td>\n",
       "      <td>986.986855</td>\n",
       "    </tr>\n",
       "    <tr>\n",
       "      <th>155</th>\n",
       "      <td>443</td>\n",
       "      <td>-7.000000e-09</td>\n",
       "      <td>0.000002</td>\n",
       "      <td>0.000224</td>\n",
       "      <td>-0.075139</td>\n",
       "      <td>-4.637103</td>\n",
       "      <td>494.830242</td>\n",
       "    </tr>\n",
       "  </tbody>\n",
       "</table>\n",
       "<p>156 rows × 7 columns</p>\n",
       "</div>"
      ],
      "text/plain": [
       "      ID  Coefficient 5  Coefficient 4  Coefficient 3  Coefficient 2  \\\n",
       "0    101  -7.000000e-09       0.000004      -0.000029      -0.113873   \n",
       "1    102  -8.000000e-09       0.000004      -0.000031      -0.127973   \n",
       "2    103  -9.000000e-09       0.000005      -0.000037      -0.150689   \n",
       "3    104  -1.100000e-08       0.000006      -0.000046      -0.179332   \n",
       "4    105  -1.300000e-08       0.000007      -0.000055      -0.208742   \n",
       "..   ...            ...            ...            ...            ...   \n",
       "151  439  -1.200000e-08       0.000004       0.000294      -0.139028   \n",
       "152  440  -1.400000e-08       0.000004       0.000430      -0.147472   \n",
       "153  441  -1.400000e-08       0.000004       0.000467      -0.150051   \n",
       "154  442  -1.400000e-08       0.000004       0.000460      -0.149881   \n",
       "155  443  -7.000000e-09       0.000002       0.000224      -0.075139   \n",
       "\n",
       "     Coefficient 1  Coefficient 0  \n",
       "0        -0.023289     751.671180  \n",
       "1        -0.042643     844.737946  \n",
       "2        -0.041929     994.683985  \n",
       "3        -0.019597    1183.759913  \n",
       "4         0.009414    1377.906025  \n",
       "..             ...            ...  \n",
       "151      -6.304943     916.143662  \n",
       "152      -8.928146     971.227981  \n",
       "153      -9.657882     988.073176  \n",
       "154      -9.512153     986.986855  \n",
       "155      -4.637103     494.830242  \n",
       "\n",
       "[156 rows x 7 columns]"
      ]
     },
     "execution_count": 46,
     "metadata": {},
     "output_type": "execute_result"
    }
   ],
   "source": [
    "dr"
   ]
  },
  {
   "cell_type": "code",
   "execution_count": null,
   "metadata": {},
   "outputs": [],
   "source": []
  }
 ],
 "metadata": {
  "kernelspec": {
   "display_name": "Python 3",
   "language": "python",
   "name": "python3"
  },
  "language_info": {
   "codemirror_mode": {
    "name": "ipython",
    "version": 3
   },
   "file_extension": ".py",
   "mimetype": "text/x-python",
   "name": "python",
   "nbconvert_exporter": "python",
   "pygments_lexer": "ipython3",
   "version": "3.7.4"
  }
 },
 "nbformat": 4,
 "nbformat_minor": 2
}
